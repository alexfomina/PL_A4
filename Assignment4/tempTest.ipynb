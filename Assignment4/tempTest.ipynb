{
 "cells": [
  {
   "cell_type": "code",
   "execution_count": 1,
   "metadata": {},
   "outputs": [],
   "source": [
    "from interpreter import interpret, substitute, evaluate, LambdaCalculusTransformer, parser, linearize"
   ]
  },
  {
   "cell_type": "code",
   "execution_count": 2,
   "metadata": {},
   "outputs": [],
   "source": [
    "def ast(source_code):\n",
    "    return LambdaCalculusTransformer().transform(parser.parse(source_code))"
   ]
  },
  {
   "cell_type": "code",
   "execution_count": null,
   "metadata": {},
   "outputs": [
    {
     "name": "stdout",
     "output_type": "stream",
     "text": [
      "Evaluating: (letrec f = (\\x.x) in f)\n",
      " -> Recursive let binding.\n",
      " -> Generated fresh name: Var21\n",
      "Substituting: Replace f with Var21 in (\\x.x)\n",
      " -> Renaming variable x to avoid capture: Var22\n",
      "Substituting: Replace x with Var22 in x\n",
      " -> Variable matched: x replaced with Var22\n",
      "Substituting: Replace f with Var21 in Var22\n",
      " -> Substituted value: (\\Var22.Var22)\n",
      "Substituting: Replace f with Var21 in f\n",
      " -> Variable matched: f replaced with Var21\n",
      " -> Substituted body: Var21\n",
      "Evaluating: Var21\n",
      " -> Variable: Var21\n"
     ]
    },
    {
     "data": {
      "text/plain": [
       "('var', 'Var21')"
      ]
     },
     "execution_count": 14,
     "metadata": {},
     "output_type": "execute_result"
    }
   ],
   "source": [
    "evaluate(('letrec', 'f', ('lam', 'x', ('var', 'x')), ('var', 'f')))"
   ]
  },
  {
   "cell_type": "code",
   "execution_count": null,
   "metadata": {},
   "outputs": [],
   "source": [
    "('lam', 'x', ('var', 'x'))"
   ]
  }
 ],
 "metadata": {
  "kernelspec": {
   "display_name": "Python 3",
   "language": "python",
   "name": "python3"
  },
  "language_info": {
   "codemirror_mode": {
    "name": "ipython",
    "version": 3
   },
   "file_extension": ".py",
   "mimetype": "text/x-python",
   "name": "python",
   "nbconvert_exporter": "python",
   "pygments_lexer": "ipython3",
   "version": "3.12.6"
  }
 },
 "nbformat": 4,
 "nbformat_minor": 2
}
